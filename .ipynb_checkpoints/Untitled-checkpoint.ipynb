{
 "cells": [
  {
   "cell_type": "code",
   "execution_count": 105,
   "metadata": {},
   "outputs": [],
   "source": [
    "import pandas as pd\n",
    "import seaborn as sns\n",
    "import matplotlib\n",
    "import matplotlib.pyplot as plt\n",
    "\n",
    "import warnings\n",
    "warnings.filterwarnings(\"ignore\")\n",
    "\n",
    "sns.set(style=\"whitegrid\")"
   ]
  },
  {
   "cell_type": "code",
   "execution_count": 106,
   "metadata": {},
   "outputs": [],
   "source": [
    "# Importanto treino e Test\n",
    "df_train = pd.read_csv('data/train.csv')\n",
    "df_test = pd.read_csv('data/test.csv')"
   ]
  },
  {
   "cell_type": "code",
   "execution_count": 107,
   "metadata": {},
   "outputs": [
    {
     "name": "stdout",
     "output_type": "stream",
     "text": [
      "O shape de treinamento é de 48 colunas e 13730 linhas.\n",
      "O shape de teste é 47 colunas e 4576 linhas.\n"
     ]
    }
   ],
   "source": [
    "# dropar colunas que não estão no dataset de test\n",
    "columns = df_test.columns\n",
    "\n",
    "# adicionando o target (y)\n",
    "columns = columns.append(pd.Index(['NU_NOTA_MT'])) \n",
    "\n",
    "# ajustando apenas colunas para o modelo\n",
    "df_train = df_train[columns]\n",
    "\n",
    "#shape comparando treino e test\n",
    "print('O shape de treinamento é de', df_train.shape[1], 'colunas e', df_train.shape[0], 'linhas.')\n",
    "print('O shape de teste é', df_test.shape[1], 'colunas e', df_test.shape[0], 'linhas.')"
   ]
  },
  {
   "cell_type": "code",
   "execution_count": 108,
   "metadata": {},
   "outputs": [],
   "source": [
    "dict_ajust_q = {\n",
    "    'A': 1,\n",
    "    'B': 2, \n",
    "    'C': 3,\n",
    "    'D': 4,\n",
    "    'E': 26,\n",
    "    'F': 5,\n",
    "    'G': 6,\n",
    "    'H': 7,\n",
    "    'I': 8,\n",
    "    'J': 9,\n",
    "    'K': 10,\n",
    "    'L': 11,\n",
    "    'M': 12,\n",
    "    'N': 13,\n",
    "    'O': 14,\n",
    "    'P': 15,\n",
    "    'Q': 16,\n",
    "    'R': 17,\n",
    "    'S': 18,\n",
    "    'T': 19,\n",
    "    'U': 20,\n",
    "    'V': 21,\n",
    "    'W': 22,\n",
    "    'X': 23,\n",
    "    'Y': 24,\n",
    "    'Z': 25,\n",
    "}\n",
    "\n",
    "#TREINO\n",
    "df_train['Q027'].fillna(value=0, inplace=True)\n",
    "df_train['NU_NOTA_REDACAO'].fillna(df_train['NU_NOTA_REDACAO'].mean(), inplace=True)\n",
    "df_train['NU_NOTA_LC'].fillna(df_train['NU_NOTA_LC'].mean(), inplace=True)\n",
    "df_train['NU_NOTA_CH'].fillna(df_train['NU_NOTA_CH'].mean(), inplace=True)\n",
    "df_train['NU_NOTA_CN'].fillna(df_train['NU_NOTA_CN'].mean(), inplace=True)\n",
    "\n",
    "df_train['Q001'].replace(dict_ajust_q, inplace=True)\n",
    "df_train['Q002'].replace(dict_ajust_q, inplace=True)\n",
    "df_train['Q006'].replace(dict_ajust_q, inplace=True)\n",
    "df_train['Q024'].replace(dict_ajust_q, inplace=True)\n",
    "df_train['Q025'].replace(dict_ajust_q, inplace=True)\n",
    "df_train['Q026'].replace(dict_ajust_q, inplace=True)\n",
    "df_train['Q027'].replace(dict_ajust_q, inplace=True)\n",
    "df_train['Q047'].replace(dict_ajust_q, inplace=True)\n",
    "\n",
    "#TESTE\n",
    "df_test['Q027'].fillna(value=0, inplace=True)\n",
    "df_test['NU_NOTA_REDACAO'].fillna(df_test['NU_NOTA_REDACAO'].mean(), inplace=True)\n",
    "df_test['TP_STATUS_REDACAO'].fillna(value=0, inplace=True)\n",
    "df_test['NU_NOTA_LC'].fillna(df_test['NU_NOTA_LC'].mean(), inplace=True)\n",
    "df_test['NU_NOTA_CH'].fillna(df_test['NU_NOTA_CH'].mean(), inplace=True)\n",
    "df_test['NU_NOTA_CN'].fillna(df_test['NU_NOTA_CN'].mean(), inplace=True)\n",
    "\n",
    "df_test['Q001'].replace(dict_ajust_q, inplace=True)\n",
    "df_test['Q002'].replace(dict_ajust_q, inplace=True)\n",
    "df_test['Q006'].replace(dict_ajust_q, inplace=True)\n",
    "df_test['Q024'].replace(dict_ajust_q, inplace=True)\n",
    "df_test['Q025'].replace(dict_ajust_q, inplace=True)\n",
    "df_test['Q026'].replace(dict_ajust_q, inplace=True)\n",
    "df_test['Q027'].replace(dict_ajust_q, inplace=True)\n",
    "df_test['Q047'].replace(dict_ajust_q, inplace=True)"
   ]
  },
  {
   "cell_type": "code",
   "execution_count": 109,
   "metadata": {},
   "outputs": [
    {
     "name": "stdout",
     "output_type": "stream",
     "text": [
      "<class 'pandas.core.frame.DataFrame'>\n",
      "RangeIndex: 13730 entries, 0 to 13729\n",
      "Data columns (total 48 columns):\n",
      "NU_INSCRICAO              13730 non-null object\n",
      "CO_UF_RESIDENCIA          13730 non-null int64\n",
      "SG_UF_RESIDENCIA          13730 non-null object\n",
      "NU_IDADE                  13730 non-null int64\n",
      "TP_SEXO                   13730 non-null object\n",
      "TP_COR_RACA               13730 non-null int64\n",
      "TP_NACIONALIDADE          13730 non-null int64\n",
      "TP_ST_CONCLUSAO           13730 non-null int64\n",
      "TP_ANO_CONCLUIU           13730 non-null int64\n",
      "TP_ESCOLA                 13730 non-null int64\n",
      "TP_ENSINO                 4282 non-null float64\n",
      "IN_TREINEIRO              13730 non-null int64\n",
      "TP_DEPENDENCIA_ADM_ESC    4282 non-null float64\n",
      "IN_BAIXA_VISAO            13730 non-null int64\n",
      "IN_CEGUEIRA               13730 non-null int64\n",
      "IN_SURDEZ                 13730 non-null int64\n",
      "IN_DISLEXIA               13730 non-null int64\n",
      "IN_DISCALCULIA            13730 non-null int64\n",
      "IN_SABATISTA              13730 non-null int64\n",
      "IN_GESTANTE               13730 non-null int64\n",
      "IN_IDOSO                  13730 non-null int64\n",
      "TP_PRESENCA_CN            13730 non-null int64\n",
      "TP_PRESENCA_CH            13730 non-null int64\n",
      "TP_PRESENCA_LC            13730 non-null int64\n",
      "CO_PROVA_CN               13730 non-null object\n",
      "CO_PROVA_CH               13730 non-null object\n",
      "CO_PROVA_LC               13730 non-null object\n",
      "CO_PROVA_MT               13730 non-null object\n",
      "NU_NOTA_CN                13730 non-null float64\n",
      "NU_NOTA_CH                13730 non-null float64\n",
      "NU_NOTA_LC                13730 non-null float64\n",
      "TP_LINGUA                 13730 non-null int64\n",
      "TP_STATUS_REDACAO         10133 non-null float64\n",
      "NU_NOTA_COMP1             10133 non-null float64\n",
      "NU_NOTA_COMP2             10133 non-null float64\n",
      "NU_NOTA_COMP3             10133 non-null float64\n",
      "NU_NOTA_COMP4             10133 non-null float64\n",
      "NU_NOTA_COMP5             10133 non-null float64\n",
      "NU_NOTA_REDACAO           13730 non-null float64\n",
      "Q001                      13730 non-null object\n",
      "Q002                      13730 non-null object\n",
      "Q006                      13730 non-null object\n",
      "Q024                      13730 non-null object\n",
      "Q025                      13730 non-null object\n",
      "Q026                      13730 non-null object\n",
      "Q027                      13730 non-null object\n",
      "Q047                      13730 non-null object\n",
      "NU_NOTA_MT                10133 non-null float64\n",
      "dtypes: float64(13), int64(20), object(15)\n",
      "memory usage: 5.0+ MB\n"
     ]
    }
   ],
   "source": [
    "df_train.info()"
   ]
  },
  {
   "cell_type": "code",
   "execution_count": 110,
   "metadata": {},
   "outputs": [
    {
     "name": "stdout",
     "output_type": "stream",
     "text": [
      "Missing Values Dataset - Treino \n",
      "\n",
      "TP_DEPENDENCIA_ADM_ESC    9448\n",
      "TP_ENSINO                 9448\n",
      "NU_NOTA_MT                3597\n",
      "NU_NOTA_COMP5             3597\n",
      "NU_NOTA_COMP4             3597\n",
      "NU_NOTA_COMP3             3597\n",
      "NU_NOTA_COMP2             3597\n",
      "NU_NOTA_COMP1             3597\n",
      "TP_STATUS_REDACAO         3597\n",
      "dtype: int64 \n",
      "\n",
      "--------------------------- \n",
      "\n",
      "Missing Values Dataset - Test \n",
      "\n",
      "TP_DEPENDENCIA_ADM_ESC    3096\n",
      "TP_ENSINO                 3096\n",
      "NU_NOTA_COMP5             1199\n",
      "NU_NOTA_COMP4             1199\n",
      "NU_NOTA_COMP3             1199\n",
      "NU_NOTA_COMP2             1199\n",
      "NU_NOTA_COMP1             1199\n",
      "dtype: int64\n"
     ]
    },
    {
     "data": {
      "text/plain": [
       "['TP_DEPENDENCIA_ADM_ESC', 'TP_ENSINO', 'Q027']"
      ]
     },
     "execution_count": 110,
     "metadata": {},
     "output_type": "execute_result"
    }
   ],
   "source": [
    "# printando colunas nulas de cada dataset\n",
    "null_counts_train = df_train.isnull().sum()\n",
    "print('Missing Values Dataset - Treino \\n')\n",
    "print(null_counts_train[null_counts_train > 0].sort_values(ascending=False), '\\n')\n",
    "\n",
    "print('--------------------------- \\n')\n",
    "print('Missing Values Dataset - Test \\n')\n",
    "\n",
    "null_counts_test= df_test.isnull().sum()\n",
    "print(null_counts_test[null_counts_test > 0].sort_values(ascending=False))\n",
    "\n",
    "['TP_DEPENDENCIA_ADM_ESC', 'TP_ENSINO', ]"
   ]
  },
  {
   "cell_type": "code",
   "execution_count": 94,
   "metadata": {},
   "outputs": [],
   "source": [
    "df_train.dropna(subset=['NU_NOTA_MT'], inplace=True)"
   ]
  },
  {
   "cell_type": "code",
   "execution_count": 95,
   "metadata": {},
   "outputs": [],
   "source": [
    "y = df_train['NU_NOTA_MT']\n",
    "x = df_train.drop('NU_NOTA_MT', axis=1)"
   ]
  },
  {
   "cell_type": "code",
   "execution_count": 96,
   "metadata": {},
   "outputs": [],
   "source": [
    "#x = pd.get_dummies(x, columns=['Q001', 'Q002', 'Q006', 'Q024', 'Q025', 'Q026', 'Q027', 'Q047'])"
   ]
  },
  {
   "cell_type": "code",
   "execution_count": 97,
   "metadata": {},
   "outputs": [
    {
     "name": "stdout",
     "output_type": "stream",
     "text": [
      "<class 'pandas.core.frame.DataFrame'>\n",
      "Int64Index: 10133 entries, 0 to 13729\n",
      "Data columns (total 17 columns):\n",
      "TP_ESCOLA            10133 non-null int64\n",
      "TP_STATUS_REDACAO    10133 non-null float64\n",
      "Q001                 10133 non-null object\n",
      "Q002                 10133 non-null object\n",
      "NU_NOTA_REDACAO      10133 non-null float64\n",
      "NU_NOTA_CN           10133 non-null float64\n",
      "CO_UF_RESIDENCIA     10133 non-null int64\n",
      "TP_COR_RACA          10133 non-null int64\n",
      "TP_NACIONALIDADE     10133 non-null int64\n",
      "TP_ST_CONCLUSAO      10133 non-null int64\n",
      "NU_NOTA_CH           10133 non-null float64\n",
      "Q006                 10133 non-null object\n",
      "Q024                 10133 non-null object\n",
      "Q025                 10133 non-null object\n",
      "Q026                 10133 non-null object\n",
      "Q027                 10133 non-null object\n",
      "Q047                 10133 non-null object\n",
      "dtypes: float64(4), int64(5), object(8)\n",
      "memory usage: 1.4+ MB\n"
     ]
    }
   ],
   "source": [
    "x.info()"
   ]
  },
  {
   "cell_type": "code",
   "execution_count": 98,
   "metadata": {},
   "outputs": [],
   "source": [
    "from sklearn.linear_model import LinearRegression"
   ]
  },
  {
   "cell_type": "code",
   "execution_count": 99,
   "metadata": {},
   "outputs": [
    {
     "data": {
      "text/plain": [
       "LinearRegression(copy_X=True, fit_intercept=True, n_jobs=None,\n",
       "         normalize=False)"
      ]
     },
     "execution_count": 99,
     "metadata": {},
     "output_type": "execute_result"
    }
   ],
   "source": [
    "lm = LinearRegression()\n",
    "lm.fit(x, y)\n"
   ]
  },
  {
   "cell_type": "code",
   "execution_count": 100,
   "metadata": {},
   "outputs": [],
   "source": [
    "features_test = ['TP_ESCOLA', 'TP_STATUS_REDACAO', 'Q001', 'Q002',\n",
    "                 'NU_NOTA_REDACAO', 'NU_NOTA_CN', 'CO_UF_RESIDENCIA', \n",
    "                 'TP_COR_RACA', 'TP_NACIONALIDADE', 'TP_ST_CONCLUSAO',\n",
    "                 'NU_NOTA_CH',\n",
    "                 'Q006', 'Q024', 'Q025', 'Q026', 'Q027', 'Q047']\n",
    "\n",
    "df_test_pred = df_test[features_test]\n",
    "#df_test_pred = pd.get_dummies(df_test_pred, columns=['Q001', 'Q002', 'Q006', 'Q024', 'Q025', 'Q026', 'Q027', 'Q047'])"
   ]
  },
  {
   "cell_type": "code",
   "execution_count": 101,
   "metadata": {},
   "outputs": [],
   "source": [
    "pred = lm.predict(df_test_pred)"
   ]
  },
  {
   "cell_type": "code",
   "execution_count": 102,
   "metadata": {},
   "outputs": [],
   "source": [
    "submition = pd.DataFrame({'NU_INSCRICAO': df_test.NU_INSCRICAO, 'NU_NOTA_MT': pred})"
   ]
  },
  {
   "cell_type": "code",
   "execution_count": 103,
   "metadata": {},
   "outputs": [],
   "source": [
    "submition.to_csv('answer.csv', encoding='utf-8', index=None)"
   ]
  },
  {
   "cell_type": "code",
   "execution_count": null,
   "metadata": {},
   "outputs": [],
   "source": []
  },
  {
   "cell_type": "code",
   "execution_count": null,
   "metadata": {},
   "outputs": [],
   "source": []
  }
 ],
 "metadata": {
  "kernelspec": {
   "display_name": "Python 3",
   "language": "python",
   "name": "python3"
  },
  "language_info": {
   "codemirror_mode": {
    "name": "ipython",
    "version": 3
   },
   "file_extension": ".py",
   "mimetype": "text/x-python",
   "name": "python",
   "nbconvert_exporter": "python",
   "pygments_lexer": "ipython3",
   "version": "3.7.3"
  }
 },
 "nbformat": 4,
 "nbformat_minor": 2
}
