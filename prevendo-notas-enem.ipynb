{
 "cells": [
  {
   "cell_type": "code",
   "execution_count": 284,
   "metadata": {},
   "outputs": [],
   "source": [
    "import pandas as pd\n",
    "import seaborn as sns\n",
    "import matplotlib\n",
    "import matplotlib.pyplot as plt\n",
    "\n",
    "import warnings\n",
    "warnings.filterwarnings(\"ignore\")\n",
    "\n",
    "sns.set(style=\"whitegrid\")"
   ]
  },
  {
   "cell_type": "code",
   "execution_count": 285,
   "metadata": {},
   "outputs": [],
   "source": [
    "df_train = pd.read_csv('data/train.csv')\n",
    "df_test = pd.read_csv('data/test.csv')"
   ]
  },
  {
   "cell_type": "code",
   "execution_count": 286,
   "metadata": {},
   "outputs": [
    {
     "name": "stdout",
     "output_type": "stream",
     "text": [
      "Estrutura dados de treino: (13730, 167)\n",
      "Estrutura dados de test: (4576, 47)\n"
     ]
    }
   ],
   "source": [
    "print(\"Estrutura dados de treino:\", df_train.shape)\n",
    "print(\"Estrutura dados de test:\", df_test.shape)"
   ]
  },
  {
   "cell_type": "code",
   "execution_count": 287,
   "metadata": {},
   "outputs": [],
   "source": [
    "# ajustando df de treino e test\n",
    "columns_train = ['CO_UF_RESIDENCIA', 'NU_IDADE',\n",
    "               'TP_COR_RACA', 'TP_ST_CONCLUSAO', 'IN_TREINEIRO', 'TP_PRESENCA_CN',\n",
    "               'TP_PRESENCA_CH', 'TP_PRESENCA_LC',\n",
    "               'NU_NOTA_CN', 'NU_NOTA_CH', 'NU_NOTA_LC',\n",
    "               'NU_NOTA_REDACAO', 'Q001', 'Q002',\n",
    "               'Q006', 'Q024', 'Q025', 'Q026', 'Q047', 'NU_NOTA_MT']\n",
    "\n",
    "columns_test = ['NU_INSCRICAO','CO_UF_RESIDENCIA', 'NU_IDADE',\n",
    "               'TP_COR_RACA', 'TP_ST_CONCLUSAO', 'IN_TREINEIRO', 'TP_PRESENCA_CN',\n",
    "               'TP_PRESENCA_CH', 'TP_PRESENCA_LC',\n",
    "               'NU_NOTA_CN', 'NU_NOTA_CH', 'NU_NOTA_LC',\n",
    "               'NU_NOTA_REDACAO', 'Q001', 'Q002',\n",
    "               'Q006', 'Q024', 'Q025', 'Q026', 'Q047']\n",
    "\n",
    "df_train = df_train[columns_train]\n",
    "df_test = df_test[columns_test]"
   ]
  },
  {
   "cell_type": "code",
   "execution_count": 288,
   "metadata": {},
   "outputs": [],
   "source": [
    "df_train.fillna({\n",
    "                 'NU_NOTA_REDACAO': 0,\n",
    "                 'TP_STATUS_REDACAO': 0,\n",
    "                 'NU_NOTA_LC': 0,\n",
    "                 'NU_NOTA_CH': 0,\n",
    "                 'NU_NOTA_CN': 0,\n",
    "                 'NU_NOTA_MT': 0}, inplace=True)\n",
    "\n",
    "df_test.fillna({\n",
    "                 'NU_NOTA_REDACAO': 0,\n",
    "                 'NU_NOTA_LC': 0,\n",
    "                 'NU_NOTA_CH': 0,\n",
    "                 'NU_NOTA_CN': 0}, inplace=True)"
   ]
  },
  {
   "cell_type": "code",
   "execution_count": 289,
   "metadata": {},
   "outputs": [],
   "source": [
    "# ajustando dummies para o encoding\n",
    "# treino\n",
    "df_train = pd.get_dummies(df_train, columns=['Q001', 'Q002', 'Q006', 'Q024', 'Q025', 'Q026', 'Q047'])\n",
    "\n",
    "# test\n",
    "df_test  = pd.get_dummies(df_test,  columns=['Q001', 'Q002', 'Q006', 'Q024', 'Q025', 'Q026', 'Q047'])"
   ]
  },
  {
   "cell_type": "code",
   "execution_count": 290,
   "metadata": {},
   "outputs": [],
   "source": [
    "from sklearn.linear_model import LinearRegression"
   ]
  },
  {
   "cell_type": "code",
   "execution_count": 291,
   "metadata": {},
   "outputs": [],
   "source": [
    "y = df_train['NU_NOTA_MT']\n",
    "x =  df_train.drop(\"NU_NOTA_MT\", axis=1)"
   ]
  },
  {
   "cell_type": "code",
   "execution_count": 293,
   "metadata": {},
   "outputs": [],
   "source": [
    "# ativando modelo\n",
    "reg = LinearRegression()"
   ]
  },
  {
   "cell_type": "code",
   "execution_count": 294,
   "metadata": {},
   "outputs": [
    {
     "data": {
      "text/plain": [
       "LinearRegression(copy_X=True, fit_intercept=True, n_jobs=None,\n",
       "         normalize=False)"
      ]
     },
     "execution_count": 294,
     "metadata": {},
     "output_type": "execute_result"
    }
   ],
   "source": [
    "reg.fit(x, y)"
   ]
  },
  {
   "cell_type": "code",
   "execution_count": 299,
   "metadata": {},
   "outputs": [
    {
     "data": {
      "text/plain": [
       "0.9136805925407718"
      ]
     },
     "execution_count": 299,
     "metadata": {},
     "output_type": "execute_result"
    }
   ],
   "source": [
    "reg.score(x, y)"
   ]
  },
  {
   "cell_type": "code",
   "execution_count": 295,
   "metadata": {},
   "outputs": [],
   "source": [
    "# exportando dados\n",
    "column_finale = ['CO_UF_RESIDENCIA', 'NU_IDADE', 'TP_COR_RACA', 'TP_ST_CONCLUSAO',\n",
    "       'IN_TREINEIRO', 'TP_PRESENCA_CN', 'TP_PRESENCA_CH', 'TP_PRESENCA_LC',\n",
    "       'NU_NOTA_CN', 'NU_NOTA_CH', 'NU_NOTA_LC', 'NU_NOTA_REDACAO', 'Q001_A',\n",
    "       'Q001_B', 'Q001_C', 'Q001_D', 'Q001_E', 'Q001_F', 'Q001_G', 'Q001_H',\n",
    "       'Q002_A', 'Q002_B', 'Q002_C', 'Q002_D', 'Q002_E', 'Q002_F', 'Q002_G',\n",
    "       'Q002_H', 'Q006_A', 'Q006_B', 'Q006_C', 'Q006_D', 'Q006_E', 'Q006_F',\n",
    "       'Q006_G', 'Q006_H', 'Q006_I', 'Q006_J', 'Q006_K', 'Q006_L', 'Q006_M',\n",
    "       'Q006_N', 'Q006_O', 'Q006_P', 'Q006_Q', 'Q024_A', 'Q024_B', 'Q024_C',\n",
    "       'Q024_D', 'Q024_E', 'Q025_A', 'Q025_B', 'Q026_A', 'Q026_B', 'Q026_C',\n",
    "       'Q047_A', 'Q047_B', 'Q047_C', 'Q047_D', 'Q047_E']\n",
    "\n",
    "df_test2 = df_test[column_finale]"
   ]
  },
  {
   "cell_type": "code",
   "execution_count": 296,
   "metadata": {},
   "outputs": [],
   "source": [
    "answer2 = reg.predict(df_test2)"
   ]
  },
  {
   "cell_type": "code",
   "execution_count": 297,
   "metadata": {},
   "outputs": [],
   "source": [
    "answer = pd.DataFrame({'NU_INSCRICAO': df_test.NU_INSCRICAO, 'NU_NOTA_MT': answer2})"
   ]
  },
  {
   "cell_type": "code",
   "execution_count": 298,
   "metadata": {},
   "outputs": [],
   "source": [
    "answer.to_csv('answer.csv', encoding='utf-8', index=None)"
   ]
  },
  {
   "cell_type": "code",
   "execution_count": null,
   "metadata": {},
   "outputs": [],
   "source": []
  }
 ],
 "metadata": {
  "kernelspec": {
   "display_name": "Python 3",
   "language": "python",
   "name": "python3"
  },
  "language_info": {
   "codemirror_mode": {
    "name": "ipython",
    "version": 3
   },
   "file_extension": ".py",
   "mimetype": "text/x-python",
   "name": "python",
   "nbconvert_exporter": "python",
   "pygments_lexer": "ipython3",
   "version": "3.7.3"
  }
 },
 "nbformat": 4,
 "nbformat_minor": 2
}
