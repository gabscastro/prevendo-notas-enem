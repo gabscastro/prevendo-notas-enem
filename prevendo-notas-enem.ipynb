{
 "cells": [
  {
   "cell_type": "code",
   "execution_count": 151,
   "metadata": {},
   "outputs": [],
   "source": [
    "import pandas as pd\n",
    "import seaborn as sns\n",
    "import matplotlib\n",
    "import matplotlib.pyplot as plt\n",
    "\n",
    "sns.set(style=\"whitegrid\")"
   ]
  },
  {
   "cell_type": "code",
   "execution_count": 160,
   "metadata": {},
   "outputs": [],
   "source": [
    "# Importanto treino e Test\n",
    "df_train = pd.read_csv('data/train.csv')\n",
    "df_test = pd.read_csv('data/test.csv')"
   ]
  },
  {
   "cell_type": "code",
   "execution_count": 161,
   "metadata": {},
   "outputs": [
    {
     "name": "stdout",
     "output_type": "stream",
     "text": [
      "O shape de treinamento é de 48 colunas e 13730 linhas.\n",
      "O shape de teste é 47 colunas e 4576 linhas.\n"
     ]
    }
   ],
   "source": [
    "# dropar colunas que não estão no dataset de test\n",
    "columns = df_test.columns\n",
    "\n",
    "# adicionando o target (y)\n",
    "columns = columns.append(pd.Index(['NU_NOTA_MT'])) \n",
    "\n",
    "# ajustando apenas colunas para o modelo\n",
    "df_train = df_train[columns]\n",
    "\n",
    "#shape comparando treino e test\n",
    "print('O shape de treinamento é de', df_train.shape[1], 'colunas e', df_train.shape[0], 'linhas.')\n",
    "print('O shape de teste é', df_test.shape[1], 'colunas e', df_test.shape[0], 'linhas.')"
   ]
  },
  {
   "cell_type": "code",
   "execution_count": 162,
   "metadata": {},
   "outputs": [],
   "source": [
    "# Ajustando instrings para numeros inteiros\n",
    "dict_ajust_sexo = {\n",
    "    'M': 1,\n",
    "    'F': 2\n",
    "}\n",
    "\n",
    "# ajustando feature de sexo\n",
    "df_train['TP_SEXO'].replace(dict_ajust_sexo, inplace=True)"
   ]
  },
  {
   "cell_type": "code",
   "execution_count": 178,
   "metadata": {},
   "outputs": [
    {
     "name": "stdout",
     "output_type": "stream",
     "text": [
      "A quantidade de respondentes masculino é de: 5239\n",
      "A quantidade de respondentes femininos é de: 8491\n"
     ]
    },
    {
     "data": {
      "image/png": "[encoded data removed]",
      "text/plain": [
       "<Figure size 432x288 with 1 Axes>"
      ]
     },
     "metadata": {},
     "output_type": "display_data"
    }
   ],
   "source": [
    "# analisando sexo\n",
    "count_masculino = df_train['TP_SEXO'][df_train['TP_SEXO'] == 1].count()\n",
    "count_feminino = df_train['TP_SEXO'][df_train['TP_SEXO'] == 2].count()\n",
    "\n",
    "print('A quantidade de respondentes masculino é de:', count_masculino)\n",
    "print('A quantidade de respondentes femininos é de:', count_feminino)\n",
    "\n",
    "sex_count = df_train.groupby('TP_SEXO').count()\n",
    "sex_count = sex_count[['NU_INSCRICAO']]\n",
    "\n",
    "# plotando sexo\n",
    "# 1 = masculino\n",
    "# 2 = feminino\n",
    "ax = sns.barplot(x=sex_count.index, y='NU_INSCRICAO', data=sex_count)\n",
    "ax.set(xlabel='Sex', ylabel='total')\n",
    "plt.show()"
   ]
  },
  {
   "cell_type": "code",
   "execution_count": 184,
   "metadata": {},
   "outputs": [
    {
     "name": "stdout",
     "output_type": "stream",
     "text": [
      "Baixa Visão - Não: 13713 Sim: 17\n",
      "Cegueira - Não: 13730 Sim: 0\n",
      "Surdez - Não: 13725 Sim: 5\n",
      "Dislexia - Não: 13729 Sim: 1\n",
      "Discalculia - Não: 13729 Sim: 1\n",
      "Sabatista - Não: 13597 Sim: 133\n",
      "Gestante - Não: 13717 Sim: 13\n",
      "Idoso - Não: 13728 Sim: 2\n"
     ]
    }
   ],
   "source": [
    "# Verificando se vale a pena as features sobre deficiencias\n",
    "print('Baixa Visão - Não:', df_train['IN_BAIXA_VISAO'][df_train['IN_BAIXA_VISAO'] == 0].count(), 'Sim:', df_train['IN_BAIXA_VISAO'][df_train['IN_BAIXA_VISAO'] == 1].count())\n",
    "print('Cegueira - Não:', df_train['IN_CEGUEIRA'][df_train['IN_CEGUEIRA'] == 0].count(), 'Sim:', df_train['IN_CEGUEIRA'][df_train['IN_CEGUEIRA'] == 1].count())\n",
    "print('Surdez - Não:', df_train['IN_SURDEZ'][df_train['IN_SURDEZ'] == 0].count(), 'Sim:', df_train['IN_SURDEZ'][df_train['IN_SURDEZ'] == 1].count())\n",
    "print('Dislexia - Não:', df_train['IN_DISLEXIA'][df_train['IN_DISLEXIA'] == 0].count(), 'Sim:', df_train['IN_DISLEXIA'][df_train['IN_DISLEXIA'] == 1].count())\n",
    "print('Discalculia - Não:', df_train['IN_DISCALCULIA'][df_train['IN_DISCALCULIA'] == 0].count(), 'Sim:', df_train['IN_DISCALCULIA'][df_train['IN_DISCALCULIA'] == 1].count())\n",
    "print('Sabatista - Não:', df_train['IN_SABATISTA'][df_train['IN_SABATISTA'] == 0].count(), 'Sim:', df_train['IN_SABATISTA'][df_train['IN_SABATISTA'] == 1].count())\n",
    "print('Gestante - Não:', df_train['IN_GESTANTE'][df_train['IN_GESTANTE'] == 0].count(), 'Sim:', df_train['IN_GESTANTE'][df_train['IN_GESTANTE'] == 1].count())\n",
    "print('Idoso - Não:', df_train['IN_IDOSO'][df_train['IN_IDOSO'] == 0].count(), 'Sim:', df_train['IN_IDOSO'][df_train['IN_IDOSO'] == 1].count())\n"
   ]
  },
  {
   "cell_type": "code",
   "execution_count": null,
   "metadata": {},
   "outputs": [],
   "source": []
  }
 ],
 "metadata": {
  "kernelspec": {
   "display_name": "Python 3",
   "language": "python",
   "name": "python3"
  },
  "language_info": {
   "codemirror_mode": {
    "name": "ipython",
    "version": 3
   },
   "file_extension": ".py",
   "mimetype": "text/x-python",
   "name": "python",
   "nbconvert_exporter": "python",
   "pygments_lexer": "ipython3",
   "version": "3.7.3"
  }
 },
 "nbformat": 4,
 "nbformat_minor": 2
}
